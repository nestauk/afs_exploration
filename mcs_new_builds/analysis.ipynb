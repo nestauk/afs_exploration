{
 "cells": [
  {
   "cell_type": "markdown",
   "id": "9b915e38",
   "metadata": {},
   "source": [
    "### Imports and setup"
   ]
  },
  {
   "cell_type": "code",
   "execution_count": 1,
   "id": "ffb76add",
   "metadata": {},
   "outputs": [],
   "source": [
    "from asf_core_data import get_mcs_installations, load_preprocessed_epc_data\n",
    "\n",
    "import pandas as pd\n",
    "import numpy as np"
   ]
  },
  {
   "cell_type": "code",
   "execution_count": 2,
   "id": "c4de794b",
   "metadata": {},
   "outputs": [],
   "source": [
    "# change path to your own local version of EPC data\n",
    "epc_path = \"/Users/chris.williamson/Documents/ASF_data\""
   ]
  },
  {
   "cell_type": "code",
   "execution_count": 3,
   "id": "050174fb",
   "metadata": {},
   "outputs": [
    {
     "name": "stdout",
     "output_type": "stream",
     "text": [
      "Loading /outputs/MCS/mcs_installations_epc_full_230510.csv from S3\n"
     ]
    }
   ],
   "source": [
    "mcs = get_mcs_installations(\"full\")"
   ]
  },
  {
   "cell_type": "code",
   "execution_count": 4,
   "id": "f494536c",
   "metadata": {},
   "outputs": [],
   "source": [
    "# convert date columns to datetime type\n",
    "mcs[\"commission_date\"] = pd.to_datetime(mcs[\"commission_date\"])\n",
    "mcs[\"INSPECTION_DATE\"] = pd.to_datetime(mcs[\"INSPECTION_DATE\"])"
   ]
  },
  {
   "cell_type": "code",
   "execution_count": 5,
   "id": "3e08e7f0",
   "metadata": {},
   "outputs": [],
   "source": [
    "# merge installation type columns and filter to domestic installations\n",
    "mcs[\"installation_type\"] = mcs[\"installation_type\"].fillna(\n",
    "    mcs[\"end_user_installation_type\"]\n",
    ")\n",
    "mcs = mcs.loc[mcs.installation_type == \"Domestic\"].reset_index(\n",
    "    drop=True\n",
    ")"
   ]
  },
  {
   "attachments": {},
   "cell_type": "markdown",
   "id": "1150cbf8",
   "metadata": {},
   "source": [
    "### What proportion of domestic records in the MCS database relate to new-build installations?"
   ]
  },
  {
   "cell_type": "code",
   "execution_count": 6,
   "id": "0f4132b6",
   "metadata": {},
   "outputs": [],
   "source": [
    "# UPRNs of properties that have an EPC labelled as \"new dwelling\" (not necessarily the first one - see below)\n",
    "new_uprns = [uprn for uprn in mcs.loc[mcs[\"TRANSACTION_TYPE\"] == \"new dwelling\"][\"UPRN\"] if uprn != \"unknown\"]"
   ]
  },
  {
   "cell_type": "code",
   "execution_count": 7,
   "id": "bd38ce71",
   "metadata": {},
   "outputs": [],
   "source": [
    "# filter to first records\n",
    "# records not linked to an EPC are kept\n",
    "first_records = (\n",
    "    mcs\n",
    "    .sort_values(\"INSPECTION_DATE\")\n",
    "    .groupby(\"original_mcs_index\")\n",
    "    .head(1)\n",
    "    .sort_values(\"original_mcs_index\")\n",
    ")"
   ]
  },
  {
   "cell_type": "code",
   "execution_count": 8,
   "id": "e627fe84",
   "metadata": {},
   "outputs": [],
   "source": [
    "# find number of days between first recorded EPC inspection and HP commission\n",
    "# could instead use the first EPC that labels the property as a \"new dwelling\", rather than the first overall - which is best? (see below)\n",
    "first_records[\"diff_epc_to_mcs\"] = (\n",
    "    first_records[\"commission_date\"] - first_records[\"INSPECTION_DATE\"]\n",
    ").dt.days\n",
    "\n",
    "# assume dwelling was built with HP if:\n",
    "# - it has an EPC indicating that it is a new dwelling\n",
    "# - time difference between first EPC inspection and HP installation is less than 1 year\n",
    "first_records[\"assumed_hp_when_built\"] = (\n",
    "    first_records[\"UPRN\"].isin(new_uprns)\n",
    ") & (first_records[\"diff_epc_to_mcs\"] < 365)"
   ]
  },
  {
   "attachments": {},
   "cell_type": "markdown",
   "id": "0a4b0513",
   "metadata": {},
   "source": [
    "Proportion of domestic MCS installations that relate to new builds:"
   ]
  },
  {
   "cell_type": "code",
   "execution_count": 9,
   "id": "eb975d1a",
   "metadata": {},
   "outputs": [
    {
     "data": {
      "text/plain": [
       "False    0.886784\n",
       "True     0.113216\n",
       "Name: assumed_hp_when_built, dtype: float64"
      ]
     },
     "execution_count": 9,
     "metadata": {},
     "output_type": "execute_result"
    }
   ],
   "source": [
    "first_records.assumed_hp_when_built.value_counts(normalize=True)"
   ]
  },
  {
   "attachments": {},
   "cell_type": "markdown",
   "id": "9694e408",
   "metadata": {},
   "source": [
    "Raw numbers:"
   ]
  },
  {
   "cell_type": "code",
   "execution_count": 10,
   "id": "9621b404",
   "metadata": {},
   "outputs": [
    {
     "data": {
      "text/plain": [
       "False    105114\n",
       "True      13420\n",
       "Name: assumed_hp_when_built, dtype: int64"
      ]
     },
     "execution_count": 10,
     "metadata": {},
     "output_type": "execute_result"
    }
   ],
   "source": [
    "first_records.assumed_hp_when_built.value_counts()"
   ]
  },
  {
   "attachments": {},
   "cell_type": "markdown",
   "id": "e7c378cc",
   "metadata": {},
   "source": [
    "Top 5 installers of domestic new build installations:"
   ]
  },
  {
   "cell_type": "code",
   "execution_count": null,
   "id": "f6f533da",
   "metadata": {},
   "outputs": [],
   "source": [
    "first_records.loc[first_records[\"assumed_hp_when_built\"]][\"installer_name\"].value_counts().head()"
   ]
  },
  {
   "attachments": {},
   "cell_type": "markdown",
   "id": "a1387970",
   "metadata": {},
   "source": [
    "Difference in average costs for domestic retrofits and new builds:"
   ]
  },
  {
   "cell_type": "code",
   "execution_count": 11,
   "id": "37eca478",
   "metadata": {},
   "outputs": [
    {
     "data": {
      "text/plain": [
       "assumed_hp_when_built\n",
       "False    12593.874442\n",
       "True     11755.147494\n",
       "Name: cost, dtype: float64"
      ]
     },
     "execution_count": 11,
     "metadata": {},
     "output_type": "execute_result"
    }
   ],
   "source": [
    "first_records.groupby(\"assumed_hp_when_built\").cost.mean()"
   ]
  },
  {
   "attachments": {},
   "cell_type": "markdown",
   "id": "cda9fed8",
   "metadata": {},
   "source": [
    "### What proportion of properties in the EPC database that were built with a HP appear in the MCS database?"
   ]
  },
  {
   "cell_type": "code",
   "execution_count": 12,
   "id": "9677d5bb",
   "metadata": {},
   "outputs": [],
   "source": [
    "epc = load_preprocessed_epc_data(epc_path, version=\"preprocessed\", usecols=[\"UPRN\", \"TRANSACTION_TYPE\", \"INSPECTION_DATE\", \"HP_INSTALLED\"])"
   ]
  },
  {
   "cell_type": "code",
   "execution_count": 13,
   "id": "254d040f",
   "metadata": {},
   "outputs": [],
   "source": [
    "# filter to records of new builds with a heat pump\n",
    "new_hp = epc.loc[(epc[\"TRANSACTION_TYPE\"] == \"new dwelling\") & (epc[\"HP_INSTALLED\"])]"
   ]
  },
  {
   "cell_type": "code",
   "execution_count": 14,
   "id": "d2c45740",
   "metadata": {},
   "outputs": [
    {
     "name": "stderr",
     "output_type": "stream",
     "text": [
      "/var/folders/82/3twghjpj20j97kv1v40lw6j80000gn/T/ipykernel_10440/3455941856.py:2: SettingWithCopyWarning: \n",
      "A value is trying to be set on a copy of a slice from a DataFrame.\n",
      "Try using .loc[row_indexer,col_indexer] = value instead\n",
      "\n",
      "See the caveats in the documentation: https://pandas.pydata.org/pandas-docs/stable/user_guide/indexing.html#returning-a-view-versus-a-copy\n",
      "  new_hp[\"UPRN\"] = new_hp[\"UPRN\"].replace(\"unknown\", \"unknown_epc\").fillna(\"unknown_epc\").astype(\"str\")\n"
     ]
    }
   ],
   "source": [
    "# replace missing or unknown UPRNs with different codes to avoid them appearing the same in both datasets\n",
    "new_hp[\"UPRN\"] = new_hp[\"UPRN\"].replace(\"unknown\", \"unknown_epc\").fillna(\"unknown_epc\").astype(\"str\")\n",
    "mcs[\"UPRN\"] = mcs[\"UPRN\"].replace(\"unknown\", \"unknown_mcs\").fillna(\"unknown_mcs\").astype(\"str\")"
   ]
  },
  {
   "cell_type": "code",
   "execution_count": 15,
   "id": "5a6e18e0",
   "metadata": {},
   "outputs": [
    {
     "name": "stderr",
     "output_type": "stream",
     "text": [
      "/var/folders/82/3twghjpj20j97kv1v40lw6j80000gn/T/ipykernel_10440/888640001.py:1: SettingWithCopyWarning: \n",
      "A value is trying to be set on a copy of a slice from a DataFrame.\n",
      "Try using .loc[row_indexer,col_indexer] = value instead\n",
      "\n",
      "See the caveats in the documentation: https://pandas.pydata.org/pandas-docs/stable/user_guide/indexing.html#returning-a-view-versus-a-copy\n",
      "  new_hp[\"in_mcs\"] = new_hp[\"UPRN\"].isin(mcs[\"UPRN\"])\n"
     ]
    }
   ],
   "source": [
    "new_hp[\"in_mcs\"] = new_hp[\"UPRN\"].isin(mcs[\"UPRN\"])"
   ]
  },
  {
   "cell_type": "code",
   "execution_count": 16,
   "id": "0b95600f",
   "metadata": {},
   "outputs": [],
   "source": [
    "new_hp = new_hp.drop_duplicates(\"UPRN\")"
   ]
  },
  {
   "attachments": {},
   "cell_type": "markdown",
   "id": "d9b36fe1",
   "metadata": {},
   "source": [
    "Proportions of EPC new builds that are in the MCS database:"
   ]
  },
  {
   "cell_type": "code",
   "execution_count": 17,
   "id": "d5f125e6",
   "metadata": {},
   "outputs": [
    {
     "data": {
      "text/plain": [
       "False    0.834935\n",
       "True     0.165065\n",
       "Name: in_mcs, dtype: float64"
      ]
     },
     "execution_count": 17,
     "metadata": {},
     "output_type": "execute_result"
    }
   ],
   "source": [
    "new_hp[\"in_mcs\"].value_counts(normalize=True)"
   ]
  },
  {
   "attachments": {},
   "cell_type": "markdown",
   "id": "7ae504f6",
   "metadata": {},
   "source": [
    "Raw numbers:"
   ]
  },
  {
   "cell_type": "code",
   "execution_count": 18,
   "id": "14372a58",
   "metadata": {},
   "outputs": [
    {
     "data": {
      "text/plain": [
       "False    89485\n",
       "True     17691\n",
       "Name: in_mcs, dtype: int64"
      ]
     },
     "execution_count": 18,
     "metadata": {},
     "output_type": "execute_result"
    }
   ],
   "source": [
    "new_hp[\"in_mcs\"].value_counts()"
   ]
  },
  {
   "attachments": {},
   "cell_type": "markdown",
   "id": "24c9f456",
   "metadata": {},
   "source": [
    "Weird that there are more properties identified here than by starting with the MCS dataset - how can this happen?"
   ]
  },
  {
   "cell_type": "code",
   "execution_count": 19,
   "id": "8980c837",
   "metadata": {},
   "outputs": [],
   "source": [
    "assumed_hp_when_built_uprns = first_records.loc[first_records[\"assumed_hp_when_built\"]][\"UPRN\"]\n",
    "\n",
    "weird = new_hp.loc[(new_hp[\"in_mcs\"]) & (~new_hp[\"UPRN\"].isin(assumed_hp_when_built_uprns))]"
   ]
  },
  {
   "cell_type": "code",
   "execution_count": null,
   "id": "ef1d3764",
   "metadata": {},
   "outputs": [],
   "source": [
    "mcs.loc[mcs[\"UPRN\"].isin(weird[\"UPRN\"])][[\"UPRN\", \"commission_date\", \"TRANSACTION_TYPE\", \"INSPECTION_DATE\"]].sort_values([\"UPRN\", \"INSPECTION_DATE\"]).head(20)"
   ]
  },
  {
   "cell_type": "code",
   "execution_count": null,
   "id": "fa89cfdc",
   "metadata": {},
   "outputs": [],
   "source": [
    "epc.loc[epc[\"UPRN\"].isin(weird[\"UPRN\"])].sort_values([\"UPRN\", \"INSPECTION_DATE\"]).head(20)"
   ]
  },
  {
   "attachments": {},
   "cell_type": "markdown",
   "id": "36aef549",
   "metadata": {},
   "source": [
    "These properties seem to be ones with an EPC certificate that says that the property is a \"new dwelling\" and has a HP and either:\n",
    "* an earlier certificate with inspection date >1 year before the MCS commission date, or\n",
    "* an MCS commission date that is >1 year after the EPC inspection date\n",
    "\n",
    "The former could indicate errors in the EPC dataset (why would a new dwelling have a previous certificate?)\n",
    "\n",
    "The latter could be properties getting their HP replaced or getting a second HP installed, or errors in the MCS dataset."
   ]
  },
  {
   "attachments": {},
   "cell_type": "markdown",
   "id": "14b72c9c",
   "metadata": {},
   "source": [
    "### Side note: How many \"new dwelling\" EPCs have an earlier certificate?"
   ]
  },
  {
   "cell_type": "code",
   "execution_count": 20,
   "id": "502811ca",
   "metadata": {},
   "outputs": [],
   "source": [
    "epc[\"certificate_n\"] = epc.sort_values(\"INSPECTION_DATE\").groupby(\"UPRN\").cumcount()"
   ]
  },
  {
   "cell_type": "code",
   "execution_count": 21,
   "id": "21143012",
   "metadata": {},
   "outputs": [
    {
     "data": {
      "text/plain": [
       "0      2605801\n",
       "1       140985\n",
       "2        16907\n",
       "3         2987\n",
       "4          760\n",
       "        ...   \n",
       "256          1\n",
       "253          1\n",
       "273          1\n",
       "271          1\n",
       "267          1\n",
       "Name: certificate_n, Length: 300, dtype: int64"
      ]
     },
     "execution_count": 21,
     "metadata": {},
     "output_type": "execute_result"
    }
   ],
   "source": [
    "epc.loc[(epc[\"UPRN\"] != \"unknown\") & (epc[\"TRANSACTION_TYPE\"] == \"new dwelling\")][\"certificate_n\"].value_counts()"
   ]
  },
  {
   "attachments": {},
   "cell_type": "markdown",
   "id": "f4d203cf",
   "metadata": {},
   "source": [
    "Proportion of \"new dwelling\" EPCs that have an earlier certificate:"
   ]
  },
  {
   "cell_type": "code",
   "execution_count": 22,
   "id": "4d4aab91",
   "metadata": {},
   "outputs": [
    {
     "data": {
      "text/plain": [
       "False    0.940835\n",
       "True     0.059165\n",
       "Name: certificate_n, dtype: float64"
      ]
     },
     "execution_count": 22,
     "metadata": {},
     "output_type": "execute_result"
    }
   ],
   "source": [
    "(epc.loc[(epc[\"UPRN\"] != \"unknown\") & (epc[\"TRANSACTION_TYPE\"] == \"new dwelling\")][\"certificate_n\"] >= 1).value_counts(normalize=True)"
   ]
  },
  {
   "attachments": {},
   "cell_type": "markdown",
   "id": "3abb8052",
   "metadata": {},
   "source": [
    "One extreme example:"
   ]
  },
  {
   "cell_type": "code",
   "execution_count": null,
   "id": "bdbec840",
   "metadata": {},
   "outputs": [],
   "source": [
    "epc.loc[epc[\"certificate_n\"] == 273]"
   ]
  },
  {
   "attachments": {},
   "cell_type": "markdown",
   "id": "bab8e875",
   "metadata": {},
   "source": [
    "This one property has 300 \"new dwelling\" certificates:"
   ]
  },
  {
   "cell_type": "code",
   "execution_count": null,
   "id": "955805ec",
   "metadata": {},
   "outputs": [],
   "source": [
    "epc.loc[(epc[\"UPRN\"] == \"384131\") & (epc[\"TRANSACTION_TYPE\"] == \"new dwelling\")]"
   ]
  },
  {
   "attachments": {},
   "cell_type": "markdown",
   "id": "18c576a3",
   "metadata": {},
   "source": [
    "Transaction types of first records for properties with a \"new dwelling\" certificate and an earlier certificate:"
   ]
  },
  {
   "cell_type": "code",
   "execution_count": 23,
   "id": "e4e6db34",
   "metadata": {},
   "outputs": [
    {
     "data": {
      "text/plain": [
       "new dwelling                 0.535386\n",
       "marketed sale                0.257529\n",
       "rental                       0.166368\n",
       "unknown                      0.012817\n",
       "non marketed sale            0.008973\n",
       "FiT application              0.007918\n",
       "assessment for green deal    0.004408\n",
       "ECO assessment               0.003275\n",
       "RHI application              0.002417\n",
       "not sale or rental           0.000544\n",
       "Stock Condition Survey       0.000242\n",
       "following green deal         0.000124\n",
       "Name: TRANSACTION_TYPE, dtype: float64"
      ]
     },
     "execution_count": 23,
     "metadata": {},
     "output_type": "execute_result"
    }
   ],
   "source": [
    "bad_uprns = epc.loc[(epc[\"UPRN\"] != \"unknown\") & (epc[\"TRANSACTION_TYPE\"] == \"new dwelling\") & (epc[\"certificate_n\"] >= 1)][\"UPRN\"]\n",
    "\n",
    "epc.loc[(epc[\"UPRN\"].isin(bad_uprns)) & (epc[\"certificate_n\"] == 0)][\"TRANSACTION_TYPE\"].value_counts(normalize=True)"
   ]
  },
  {
   "cell_type": "markdown",
   "id": "a26d83d3",
   "metadata": {},
   "source": [
    "## Summary: to report to MCS"
   ]
  },
  {
   "attachments": {},
   "cell_type": "markdown",
   "id": "7b04c225",
   "metadata": {},
   "source": [
    "* About 11% of domestic installation records in the MCS dataset relate to new builds (13,420 records).\n",
    "\n",
    "* The biggest installer of new build HPs is ... with ... installations. The second and third biggest installers of new build HPs are ... (... installations) and ... (... installations).\n",
    "\n",
    "* The average reported cost of a new build installation is about £840 less than a retrofit (£11,760 compared to £12,600).\n",
    "\n",
    "* About 83% of properties in the EPC dataset which are labelled as being new dwellings with a heat pump are not found in the MCS dataset (89,485 properties).\n",
    "\n",
    "* Some \"new dwellings with a heat pump\" in the EPC dataset appear in the MCS dataset with a commissioning date that is more than 1 year after the EPC inspection date. These could be properties getting their original heat pump replaced or getting a second heat pump installed, but they could also indicate errors in the MCS dataset."
   ]
  },
  {
   "cell_type": "markdown",
   "id": "018a1172",
   "metadata": {},
   "source": []
  }
 ],
 "metadata": {
  "jupytext": {
   "cell_metadata_filter": "-all",
   "custom_cell_magics": "kql",
   "main_language": "python"
  },
  "kernelspec": {
   "display_name": "mcs_new_builds",
   "language": "python",
   "name": "mcs_new_builds"
  },
  "language_info": {
   "codemirror_mode": {
    "name": "ipython",
    "version": 3
   },
   "file_extension": ".py",
   "mimetype": "text/x-python",
   "name": "python",
   "nbconvert_exporter": "python",
   "pygments_lexer": "ipython3",
   "version": "3.10.11"
  }
 },
 "nbformat": 4,
 "nbformat_minor": 5
}
