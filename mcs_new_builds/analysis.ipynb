{
 "cells": [
  {
   "cell_type": "code",
   "execution_count": 15,
   "id": "ffb76add",
   "metadata": {},
   "outputs": [],
   "source": [
    "from asf_core_data import get_mcs_installations, load_preprocessed_epc_data\n",
    "\n",
    "import pandas as pd\n",
    "import numpy as np"
   ]
  },
  {
   "cell_type": "code",
   "execution_count": 87,
   "id": "c4de794b",
   "metadata": {},
   "outputs": [],
   "source": [
    "# change path to your own local version of EPC data\n",
    "epc_path = \"/Users/chris.williamson/Documents/ASF_data\""
   ]
  },
  {
   "cell_type": "code",
   "execution_count": 25,
   "id": "050174fb",
   "metadata": {},
   "outputs": [
    {
     "name": "stdout",
     "output_type": "stream",
     "text": [
      "Loading /outputs/MCS/mcs_installations_epc_full_230510.csv from S3\n"
     ]
    }
   ],
   "source": [
    "mcs = get_mcs_installations(\"full\")"
   ]
  },
  {
   "cell_type": "code",
   "execution_count": 26,
   "id": "f494536c",
   "metadata": {},
   "outputs": [],
   "source": [
    "# convert date columns to datetime type\n",
    "mcs[\"commission_date\"] = pd.to_datetime(mcs[\"commission_date\"])\n",
    "mcs[\"INSPECTION_DATE\"] = pd.to_datetime(mcs[\"INSPECTION_DATE\"])"
   ]
  },
  {
   "cell_type": "code",
   "execution_count": 32,
   "id": "3e08e7f0",
   "metadata": {},
   "outputs": [],
   "source": [
    "# merge installation type columns and filter to domestic installations\n",
    "mcs[\"installation_type\"] = mcs[\"installation_type\"].fillna(\n",
    "    mcs[\"end_user_installation_type\"]\n",
    ")\n",
    "mcs = mcs.loc[mcs.installation_type == \"Domestic\"].reset_index(\n",
    "    drop=True\n",
    ")"
   ]
  },
  {
   "attachments": {},
   "cell_type": "markdown",
   "id": "1150cbf8",
   "metadata": {},
   "source": [
    "### What proportion of records in the MCS database relate to new-build installations?"
   ]
  },
  {
   "cell_type": "code",
   "execution_count": 33,
   "id": "bd38ce71",
   "metadata": {},
   "outputs": [],
   "source": [
    "# filter to first records - if property is a new build then it should appear as such in its first EPC record\n",
    "first_records = (\n",
    "    mcs\n",
    "    .sort_values(\"INSPECTION_DATE\")\n",
    "    .groupby(\"original_mcs_index\")\n",
    "    .head(1)\n",
    "    .sort_values(\"original_mcs_index\")\n",
    ")"
   ]
  },
  {
   "cell_type": "code",
   "execution_count": 34,
   "id": "d5947253",
   "metadata": {},
   "outputs": [],
   "source": [
    "# find number of days between first recorded EPC inspection and HP commission\n",
    "first_records[\"diff_epc_to_mcs\"] = (\n",
    "    first_records[\"commission_date\"] - first_records[\"INSPECTION_DATE\"]\n",
    ").dt.days\n",
    "\n",
    "# assume dwelling was built with HP if:\n",
    "# - first EPC shows it as a new dwelling\n",
    "# - time difference between EPC inspection when dwelling was built and HP installation is less than 1 year\n",
    "first_records[\"assumed_hp_when_built\"] = (\n",
    "    first_records[\"TRANSACTION_TYPE\"] == \"new dwelling\"\n",
    ") & (first_records[\"diff_epc_to_mcs\"] < 365)"
   ]
  },
  {
   "attachments": {},
   "cell_type": "markdown",
   "id": "0a4b0513",
   "metadata": {},
   "source": [
    "Proportions of new build installations in the MCS database:"
   ]
  },
  {
   "cell_type": "code",
   "execution_count": 38,
   "id": "eb975d1a",
   "metadata": {},
   "outputs": [
    {
     "data": {
      "text/plain": [
       "False    0.881317\n",
       "True     0.118683\n",
       "Name: assumed_hp_when_built, dtype: float64"
      ]
     },
     "execution_count": 38,
     "metadata": {},
     "output_type": "execute_result"
    }
   ],
   "source": [
    "first_records.assumed_hp_when_built.value_counts(normalize=True)"
   ]
  },
  {
   "attachments": {},
   "cell_type": "markdown",
   "id": "e7c378cc",
   "metadata": {},
   "source": [
    "Top 5 installers of new build installations:"
   ]
  },
  {
   "cell_type": "code",
   "execution_count": 85,
   "id": "f6f533da",
   "metadata": {},
   "outputs": [
    {
     "data": {
      "text/plain": [
       "Nu-Heat UK Ltd                                                        1039\n",
       "Alto Energy Ltd                                                        371\n",
       "Grant Engineering (UK) Ltd                                             340\n",
       "Total Renewable Solutions SW Limited T/A Total Renewable Solutions     306\n",
       "Kensa Heat Pumps Ltd                                                   205\n",
       "Name: installer_name, dtype: int64"
      ]
     },
     "execution_count": 85,
     "metadata": {},
     "output_type": "execute_result"
    }
   ],
   "source": [
    "first_records.loc[first_records[\"assumed_hp_when_built\"]][\"installer_name\"].value_counts().head()"
   ]
  },
  {
   "attachments": {},
   "cell_type": "markdown",
   "id": "a1387970",
   "metadata": {},
   "source": [
    "Difference in average costs for retrofits and new builds:"
   ]
  },
  {
   "cell_type": "code",
   "execution_count": 42,
   "id": "37eca478",
   "metadata": {},
   "outputs": [
    {
     "data": {
      "text/plain": [
       "assumed_hp_when_built\n",
       "False    12619.088613\n",
       "True     11601.417169\n",
       "Name: cost, dtype: float64"
      ]
     },
     "execution_count": 42,
     "metadata": {},
     "output_type": "execute_result"
    }
   ],
   "source": [
    "first_records.groupby(\"assumed_hp_when_built\").cost.mean()"
   ]
  },
  {
   "attachments": {},
   "cell_type": "markdown",
   "id": "cda9fed8",
   "metadata": {},
   "source": [
    "### What proportion of properties in the EPC database that were built with a HP appear in the MCS database?"
   ]
  },
  {
   "cell_type": "code",
   "execution_count": 88,
   "id": "9677d5bb",
   "metadata": {},
   "outputs": [],
   "source": [
    "epc = load_preprocessed_epc_data(epc_path, version=\"preprocessed\", usecols=[\"UPRN\", \"TRANSACTION_TYPE\", \"HP_INSTALLED\"])"
   ]
  },
  {
   "cell_type": "code",
   "execution_count": 77,
   "id": "254d040f",
   "metadata": {},
   "outputs": [],
   "source": [
    "# filter to records of new builds with a heat pump\n",
    "new_hp = epc.loc[(epc[\"TRANSACTION_TYPE\"] == \"new dwelling\") & (epc[\"HP_INSTALLED\"])]"
   ]
  },
  {
   "cell_type": "code",
   "execution_count": 79,
   "id": "d2c45740",
   "metadata": {},
   "outputs": [
    {
     "name": "stderr",
     "output_type": "stream",
     "text": [
      "/var/folders/82/3twghjpj20j97kv1v40lw6j80000gn/T/ipykernel_32201/1882580727.py:1: SettingWithCopyWarning: \n",
      "A value is trying to be set on a copy of a slice from a DataFrame.\n",
      "Try using .loc[row_indexer,col_indexer] = value instead\n",
      "\n",
      "See the caveats in the documentation: https://pandas.pydata.org/pandas-docs/stable/user_guide/indexing.html#returning-a-view-versus-a-copy\n",
      "  new_hp[\"UPRN\"] = new_hp[\"UPRN\"].replace(\"unknown\", np.nan).fillna(0).astype(\"float\").astype(\"int\")\n"
     ]
    }
   ],
   "source": [
    "# replace missing or unknown UPRNs to avoid them appearing the same in both datasets\n",
    "new_hp[\"UPRN\"] = new_hp[\"UPRN\"].replace(\"unknown\", np.nan).fillna(0).astype(\"float\").astype(\"int\")\n",
    "mcs[\"UPRN\"] = mcs[\"UPRN\"].replace(\"unknown\", np.nan).fillna(-1).astype(\"float\").astype(\"int\")"
   ]
  },
  {
   "cell_type": "code",
   "execution_count": 80,
   "id": "5a6e18e0",
   "metadata": {},
   "outputs": [
    {
     "name": "stderr",
     "output_type": "stream",
     "text": [
      "/var/folders/82/3twghjpj20j97kv1v40lw6j80000gn/T/ipykernel_32201/888640001.py:1: SettingWithCopyWarning: \n",
      "A value is trying to be set on a copy of a slice from a DataFrame.\n",
      "Try using .loc[row_indexer,col_indexer] = value instead\n",
      "\n",
      "See the caveats in the documentation: https://pandas.pydata.org/pandas-docs/stable/user_guide/indexing.html#returning-a-view-versus-a-copy\n",
      "  new_hp[\"in_mcs\"] = new_hp[\"UPRN\"].isin(mcs[\"UPRN\"])\n"
     ]
    }
   ],
   "source": [
    "new_hp[\"in_mcs\"] = new_hp[\"UPRN\"].isin(mcs[\"UPRN\"])"
   ]
  },
  {
   "attachments": {},
   "cell_type": "markdown",
   "id": "d9b36fe1",
   "metadata": {},
   "source": [
    "Proportions of EPC new builds that are in the MCS database:"
   ]
  },
  {
   "cell_type": "code",
   "execution_count": 89,
   "id": "d5f125e6",
   "metadata": {},
   "outputs": [
    {
     "data": {
      "text/plain": [
       "False    0.800795\n",
       "True     0.199205\n",
       "Name: in_mcs, dtype: float64"
      ]
     },
     "execution_count": 89,
     "metadata": {},
     "output_type": "execute_result"
    }
   ],
   "source": [
    "new_hp[\"in_mcs\"].value_counts(normalize=True)"
   ]
  },
  {
   "cell_type": "code",
   "execution_count": null,
   "id": "14372a58",
   "metadata": {},
   "outputs": [],
   "source": []
  }
 ],
 "metadata": {
  "jupytext": {
   "cell_metadata_filter": "-all",
   "custom_cell_magics": "kql",
   "main_language": "python"
  },
  "kernelspec": {
   "display_name": "mcs_new_builds",
   "language": "python",
   "name": "mcs_new_builds"
  },
  "language_info": {
   "codemirror_mode": {
    "name": "ipython",
    "version": 3
   },
   "file_extension": ".py",
   "mimetype": "text/x-python",
   "name": "python",
   "nbconvert_exporter": "python",
   "pygments_lexer": "ipython3",
   "version": "3.10.11"
  }
 },
 "nbformat": 4,
 "nbformat_minor": 5
}
