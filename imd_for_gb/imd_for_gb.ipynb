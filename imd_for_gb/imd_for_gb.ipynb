{
 "cells": [
  {
   "cell_type": "markdown",
   "id": "92737e14",
   "metadata": {},
   "source": [
    "# Organising IMD Data\n",
    "\n",
    "----\n",
    "\n",
    "\n",
    "## Wales IMD"
   ]
  },
  {
   "cell_type": "code",
   "execution_count": null,
   "id": "8a396d4a",
   "metadata": {},
   "outputs": [],
   "source": []
  },
  {
   "cell_type": "code",
   "execution_count": null,
   "id": "02f8a369",
   "metadata": {},
   "outputs": [],
   "source": [
    "import pandas as pd\n",
    "import numpy as np\n",
    "from ipywidgets import interact"
   ]
  },
  {
   "cell_type": "code",
   "execution_count": null,
   "id": "4932b0bd",
   "metadata": {},
   "outputs": [],
   "source": [
    "wales_postcode = pd.read_csv(\"inputs/wales/Postcode to WIMD Lookup - Welsh_Postcodes.csv\")\n",
    "wales_deciles = pd.read_csv(\"inputs/wales/welsh-index-multiple-deprivation-2019-index-and-domain-ranks-by-small-area - Deciles_quintiles_quartiles.csv\")\n",
    "wales_ranks = pd.read_csv(\"inputs/wales/welsh-index-multiple-deprivation-2019-index-and-domain-ranks-by-small-area - WIMD_2019_ranks.csv\", skiprows=[0,1])\n",
    "wales_scores = pd.read_csv(\"inputs/wales/wimd-2019-index-and-domain-scores-by-small-area_0 - Data.csv\", skiprows=[0,1])"
   ]
  },
  {
   "cell_type": "code",
   "execution_count": null,
   "id": "e814930f",
   "metadata": {},
   "outputs": [],
   "source": [
    "print(wales_postcode.columns)\n",
    "print()\n",
    "print(wales_deciles.columns)\n",
    "print()\n",
    "print(wales_ranks.columns)\n",
    "print()\n",
    "print(wales_scores.columns)\n",
    "print()\n",
    "print(wales_postcode.shape)\n",
    "print(wales_deciles.shape)\n",
    "print(wales_ranks.shape)\n",
    "print(wales_scores.shape)"
   ]
  },
  {
   "cell_type": "code",
   "execution_count": null,
   "id": "aed46899",
   "metadata": {},
   "outputs": [],
   "source": [
    "wales_postcode.columns = [\"Postcode\", \"LSOA Code\", \"LSOA Name\", \"LSOA Name Cymraeg\", \"IMD Rank\", \"IMD Decile\", \"IMD Quintile\", \"IMD Quartile\"]\n",
    "wales_postcode.head()"
   ]
  },
  {
   "cell_type": "code",
   "execution_count": null,
   "id": "fcc52907",
   "metadata": {},
   "outputs": [],
   "source": [
    "del wales_ranks['LSOA Name (Eng)']\n",
    "del wales_ranks['Local Authority Name (Eng)']\n",
    "del wales_ranks['WIMD 2019 ']\n",
    "del wales_ranks[' ']\n",
    "\n",
    "wales_ranks.columns = ['LSOA Code', \"Income Rank\", 'Employment Rank', 'Health Rank', 'Education Rank', 'Access to Services Rank', 'Housing Rank', 'Community Safety Rank', 'Physical Environment Rank']\n",
    "wales_ranks.head()"
   ]
  },
  {
   "cell_type": "code",
   "execution_count": null,
   "id": "29681fd2",
   "metadata": {},
   "outputs": [],
   "source": [
    "del wales_scores['LSOA Name']\n",
    "del wales_scores['Local Authority Name ']\n",
    "\n",
    "wales_scores.columns = ['LSOA Code', \"IMD Score\", \"Income Score\", 'Employment Score', 'Health Score', 'Education Score', 'Access to Services Score', 'Housing Score', 'Community Safety Score', 'Physical Environment Score']\n",
    "wales_scores.head()"
   ]
  },
  {
   "cell_type": "code",
   "execution_count": null,
   "id": "27b89b6b",
   "metadata": {},
   "outputs": [],
   "source": [
    "merged_wales = pd.merge(wales_postcode, wales_ranks, on=[\"LSOA Code\"])\n",
    "merged_wales.shape\n",
    "\n",
    "merged_wales = pd.merge(merged_wales, wales_scores, on=[\"LSOA Code\"])\n",
    "merged_wales.head()"
   ]
  },
  {
   "cell_type": "code",
   "execution_count": null,
   "id": "a596a2b8",
   "metadata": {},
   "outputs": [],
   "source": [
    "merged_wales['Country'] = 'Wales'\n",
    "merged_wales.to_csv('outputs/wales_imd.csv')"
   ]
  },
  {
   "cell_type": "markdown",
   "id": "2e715d86",
   "metadata": {},
   "source": [
    "## Scotland IMD"
   ]
  },
  {
   "cell_type": "code",
   "execution_count": null,
   "id": "fa158d91",
   "metadata": {},
   "outputs": [],
   "source": [
    "scotland_ranks = pd.read_csv(\"inputs/scotland/SIMD 2020v2 DZ lookup data-Table 1.csv\")\n",
    "\n",
    "scotland_ranks = scotland_ranks[['DZ', 'DZname', 'SIMD2020v2_Rank', 'SIMD2020v2_Vigintile',\n",
    "       'SIMD2020v2_Decile', 'SIMD2020v2_Quintile',\n",
    "       'SIMD2020v2_Income_Domain_Rank', 'SIMD2020_Employment_Domain_Rank',\n",
    "       'SIMD2020_Education_Domain_Rank', 'SIMD2020_Health_Domain_Rank',\n",
    "       'SIMD2020_Access_Domain_Rank', 'SIMD2020_Crime_Domain_Rank',\n",
    "       'SIMD2020_Housing_Domain_Rank']]\n",
    "\n",
    "scotland_ranks.columns = ['DZ', 'DZname', 'IMD Rank', 'IMD Vigintile', 'IMD Decile', 'IMD Quintile', 'Income Rank', 'Employment Rank', 'Education Rank', 'Health Rank', 'Access to Services Rank', 'Community Safety Rank', 'Housing Rank']\n",
    "scotland_ranks = scotland_ranks.astype({k:'int' for k in scotland_ranks.columns[2:]})\n",
    "\n",
    "print(scotland_ranks.shape)\n",
    "scotland_ranks.head()"
   ]
  },
  {
   "cell_type": "code",
   "execution_count": null,
   "id": "76dfa718",
   "metadata": {},
   "outputs": [],
   "source": [
    "scotland_postcodes = pd.read_csv(\"inputs/scotland/All postcodes-Table 1.csv\")[[\"Postcode\", \"DZ\"]]\n",
    "scotland_postcodes.head()"
   ]
  },
  {
   "cell_type": "code",
   "execution_count": null,
   "id": "74b8add2",
   "metadata": {},
   "outputs": [],
   "source": [
    "scotland_scores = pd.read_csv(\"inputs/scotland/postcode_2020_1_all_simd_carstairs.csv\", \n",
    "                              usecols=['pc8','simd2020v2_emp_rate', 'simd2020v2_inc_rate'])\n",
    "\n",
    "scotland_scores.columns = [#'DZ',\n",
    "    'Postcode', 'Employment Score', 'Income Score']\n",
    "\n",
    "scotland_scores['Employment Score'].replace(r'\\s+', np.nan, regex=True, inplace=True)\n",
    "scotland_scores['Income Score'].replace(r'\\s+', np.nan, regex=True, inplace=True)\n",
    "scotland_scores['Employment Score'] = round(scotland_scores['Employment Score'].astype(float) *100,2)#* 100\n",
    "scotland_scores['Income Score'] = round(scotland_scores['Income Score'].astype(float) *100,2)\n",
    "\n",
    "print(scotland_scores.shape)\n",
    "scotland_scores.head()"
   ]
  },
  {
   "cell_type": "code",
   "execution_count": null,
   "id": "4555374a",
   "metadata": {},
   "outputs": [],
   "source": [
    "# Example\n",
    "scotland_scores.loc[scotland_scores['Postcode'] == 'G22 6AB'].head()"
   ]
  },
  {
   "cell_type": "code",
   "execution_count": null,
   "id": "bf61176a",
   "metadata": {},
   "outputs": [],
   "source": [
    "print(scotland_ranks.shape)\n",
    "print(scotland_postcodes.shape)\n",
    "print(scotland_scores.shape)\n",
    "\n",
    "merged_scotland = pd.merge(scotland_ranks, scotland_postcodes, on=[\"DZ\"])\n",
    "print(merged_scotland.shape)\n",
    "\n",
    "merged_scotland = pd.merge(merged_scotland, scotland_scores, on=[\"Postcode\"])\n",
    "print(merged_scotland.shape)\n",
    "merged_scotland.head()\n",
    "\n",
    "merged_scotland['Country'] = 'Scotland'\n",
    "merged_scotland.to_csv('outputs/scotland_imd.csv')\n",
    "merged_scotland.head(100)"
   ]
  },
  {
   "cell_type": "markdown",
   "id": "ae6820da",
   "metadata": {},
   "source": [
    "## England IMD"
   ]
  },
  {
   "cell_type": "code",
   "execution_count": null,
   "id": "6eca4638",
   "metadata": {},
   "outputs": [],
   "source": [
    "england_all = pd.read_csv(\"inputs/england/File_7_-_All_IoD2019_Scores__Ranks__Deciles_and_Population_Denominators_3.csv\")\n",
    "\n",
    "england_all = england_all[['LSOA code (2011)', 'LSOA name (2011)', \n",
    "                                 'Index of Multiple Deprivation (IMD) Score', 'Index of Multiple Deprivation (IMD) Rank (where 1 is most deprived)', 'Index of Multiple Deprivation (IMD) Decile (where 1 is most deprived 10% of LSOAs)', \n",
    "                                 'Income Score (rate)', 'Income Rank (where 1 is most deprived)', 'Income Decile (where 1 is most deprived 10% of LSOAs)', 'Employment Score (rate)', 'Employment Rank (where 1 is most deprived)', \n",
    "                                 'Employment Decile (where 1 is most deprived 10% of LSOAs)', 'Education, Skills and Training Score', 'Education, Skills and Training Rank (where 1 is most deprived)', 'Education, Skills and Training Decile (where 1 is most deprived 10% of LSOAs)', \n",
    "                                 'Health Deprivation and Disability Score', 'Health Deprivation and Disability Rank (where 1 is most deprived)', 'Health Deprivation and Disability Decile (where 1 is most deprived 10% of LSOAs)', \n",
    "                                 'Crime Score', 'Crime Rank (where 1 is most deprived)', 'Crime Decile (where 1 is most deprived 10% of LSOAs)', \n",
    "                                 'Barriers to Housing and Services Score', 'Barriers to Housing and Services Rank (where 1 is most deprived)', 'Barriers to Housing and Services Decile (where 1 is most deprived 10% of LSOAs)', \n",
    "                                 'Living Environment Score', 'Living Environment Rank (where 1 is most deprived)', 'Living Environment Decile (where 1 is most deprived 10% of LSOAs)']]\n",
    "\n",
    "england_all.columns = [\"LSOA Code\", \"LSOA Name\", \"IMD Score\", \"IMD Rank\", \"IMD Decile\", \n",
    "                          \"Income Score\", \"Income Rank\", \"Income Decile\", \n",
    "                          \"Employment Score\", \"Employment Rank\", \"Employment Decile\", \n",
    "                          \"Education Score\", \"Education Rank\", \"Education Decile\", \n",
    "                          \"Health Score\", \"Health Rank\", \"Health Decile\", \n",
    "                          \"Community Safety Score\", \"Community Safety Rank\", \"Community Safety Decile\", \n",
    "                          \"Access to Services  Score\", \"Access to Services  Rank\", \"Access to Services  Decile\", \n",
    "                          \"Housing and Physical Environment Score\", \"Housing and Physical Environment Rank\", \"Housing and Physical Environment Decile\"]\n",
    "\n",
    "\n",
    "england_all['Employment Score'] = england_all['Employment Score'] * 100\n",
    "england_all['Income Score'] = england_all['Income Score'] * 100\n",
    "\n",
    "\n",
    "england_all.head()"
   ]
  },
  {
   "cell_type": "code",
   "execution_count": null,
   "id": "f35d2e83",
   "metadata": {},
   "outputs": [],
   "source": [
    "postcode_lsoa = pd.read_csv(\"inputs/england/PCD_OA_LSOA_MSOA_LAD_AUG19_UK_LU.csv\", encoding='ISO-8859-1')[[\"pcds\", \"lsoa11cd\"]]\n",
    "postcode_lsoa.columns = ['Postcode', 'LSOA Code']\n",
    "postcode_lsoa.head()"
   ]
  },
  {
   "cell_type": "code",
   "execution_count": null,
   "id": "9680b6bf",
   "metadata": {},
   "outputs": [],
   "source": [
    "merged_england = pd.merge(england_all, postcode_lsoa, on=[\"LSOA Code\"])\n",
    "merged_england.head()"
   ]
  },
  {
   "cell_type": "code",
   "execution_count": null,
   "id": "be46476a",
   "metadata": {},
   "outputs": [],
   "source": [
    "merged_england['Country'] = 'England'\n",
    "merged_england.to_csv('outputs/england_imd.csv')"
   ]
  },
  {
   "cell_type": "markdown",
   "id": "fb807e3e",
   "metadata": {},
   "source": [
    "## Inspect the IMD for England, Wales and Scotland\n",
    "\n",
    "Note that the available features for the different nations are different. The min and max values are not suitable for all features. "
   ]
  },
  {
   "cell_type": "code",
   "execution_count": null,
   "id": "dea6a89f",
   "metadata": {},
   "outputs": [],
   "source": [
    "country_df_dict = {'England': merged_england, 'Wales': merged_wales, 'Scotland': merged_scotland}\n",
    "\n",
    "england_imd = country_df_dict['England']\n",
    "\n",
    "@interact(feature=england_imd.columns)\n",
    "def england_imd_inspection(feature):\n",
    "\n",
    "    print('Feature:', feature)\n",
    "\n",
    "    if len(england_imd[feature].unique()) <= 10:\n",
    "        print('Unique values:', england_imd[feature].unique())\n",
    "        print()\n",
    "        print('Value counts:')\n",
    "        print(england_imd[feature].value_counts(dropna=False))\n",
    "        print()\n",
    "    \n",
    "    print('Max:', england_imd[feature].max())\n",
    "    print('Min:', england_imd[feature].min())"
   ]
  },
  {
   "cell_type": "code",
   "execution_count": null,
   "id": "29f54de8",
   "metadata": {},
   "outputs": [],
   "source": [
    "wales_imd = country_df_dict['Wales']\n",
    "\n",
    "@interact(feature=merged_wales.columns)\n",
    "def wales_imd_inspection(feature):\n",
    "\n",
    "    print('Feature:', feature)\n",
    "\n",
    "    if len(wales_imd[feature].unique()) <= 10:\n",
    "        print('Unique values:', wales_imd[feature].unique())\n",
    "        print()\n",
    "        print('Value counts:')\n",
    "        print(wales_imd[feature].value_counts(dropna=False))\n",
    "        print()\n",
    "    \n",
    "    print('Max:', wales_imd[feature].max())\n",
    "    print('Min:', wales_imd[feature].min())"
   ]
  },
  {
   "cell_type": "code",
   "execution_count": null,
   "id": "c7712ff6",
   "metadata": {},
   "outputs": [],
   "source": [
    "scotland_imd = country_df_dict['Scotland']\n",
    "\n",
    "@interact(feature=scotland_imd.columns)\n",
    "def scotland_imd_inspection(feature):\n",
    "\n",
    "    print('Feature:', feature)\n",
    "    \n",
    "    if len(scotland_imd[feature].unique()) <= 10:\n",
    "        print('Unique values:', scotland_imd[feature].unique())\n",
    "        print()\n",
    "        print('Value counts:')\n",
    "        print(scotland_imd[feature].value_counts(dropna=False))\n",
    "        print()\n",
    "    \n",
    "    print('Max:', scotland_imd[feature].max())\n",
    "    print('Min:', scotland_imd[feature].min())"
   ]
  },
  {
   "cell_type": "code",
   "execution_count": null,
   "id": "380ef94c",
   "metadata": {},
   "outputs": [],
   "source": []
  }
 ],
 "metadata": {
  "jupytext": {
   "formats": "ipynb,py:percent"
  },
  "kernelspec": {
   "display_name": "imd_for_gb",
   "language": "python",
   "name": "imd_for_gb"
  },
  "language_info": {
   "codemirror_mode": {
    "name": "ipython",
    "version": 3
   },
   "file_extension": ".py",
   "mimetype": "text/x-python",
   "name": "python",
   "nbconvert_exporter": "python",
   "pygments_lexer": "ipython3",
   "version": "3.11.2"
  }
 },
 "nbformat": 4,
 "nbformat_minor": 5
}
